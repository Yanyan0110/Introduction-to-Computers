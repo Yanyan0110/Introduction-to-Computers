{
  "nbformat": 4,
  "nbformat_minor": 0,
  "metadata": {
    "colab": {
      "provenance": [],
      "authorship_tag": "ABX9TyP0Ubr/+JySL8YOZNMgJfBO",
      "include_colab_link": true
    },
    "kernelspec": {
      "name": "python3",
      "display_name": "Python 3"
    },
    "language_info": {
      "name": "python"
    }
  },
  "cells": [
    {
      "cell_type": "markdown",
      "metadata": {
        "id": "view-in-github",
        "colab_type": "text"
      },
      "source": [
        "<a href=\"https://colab.research.google.com/github/Yanyan0110/Introduction-to-Computers/blob/main/0501%E4%BD%9C%E6%A5%AD.ipynb\" target=\"_parent\"><img src=\"https://colab.research.google.com/assets/colab-badge.svg\" alt=\"Open In Colab\"/></a>"
      ]
    },
    {
      "cell_type": "code",
      "execution_count": 3,
      "metadata": {
        "colab": {
          "base_uri": "https://localhost:8080/"
        },
        "id": "RrEZJB2S_U-r",
        "outputId": "1b67a63b-c425-4a8d-8bbf-5ac6e26ca2df"
      },
      "outputs": [
        {
          "output_type": "stream",
          "name": "stdout",
          "text": [
            "請輸入數字50\n",
            "為偶數!\n"
          ]
        }
      ],
      "source": [
        "pw = input(\"請輸入數字\")\n",
        "if pw==\"50\":\n",
        "  print(\"為偶數!\")"
      ]
    },
    {
      "cell_type": "code",
      "source": [
        "pw = input(\"請輸入數字\")\n",
        "if pw==\"51\":\n",
        "  print(\"為基數!\")"
      ],
      "metadata": {
        "colab": {
          "base_uri": "https://localhost:8080/"
        },
        "id": "jPfSef1mAeux",
        "outputId": "637b198d-f2b5-4d04-8559-e2f9252ee418"
      },
      "execution_count": 4,
      "outputs": [
        {
          "output_type": "stream",
          "name": "stdout",
          "text": [
            "請輸入數字51\n",
            "為基數!\n"
          ]
        }
      ]
    }
  ]
}
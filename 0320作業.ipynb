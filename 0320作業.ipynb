{
  "nbformat": 4,
  "nbformat_minor": 0,
  "metadata": {
    "colab": {
      "provenance": [],
      "authorship_tag": "ABX9TyNHbXxi2OvtKGknu6UVyWWY",
      "include_colab_link": true
    },
    "kernelspec": {
      "name": "python3",
      "display_name": "Python 3"
    },
    "language_info": {
      "name": "python"
    }
  },
  "cells": [
    {
      "cell_type": "markdown",
      "metadata": {
        "id": "view-in-github",
        "colab_type": "text"
      },
      "source": [
        "<a href=\"https://colab.research.google.com/github/Yanyan0110/Introduction-to-Computers/blob/main/0320%E4%BD%9C%E6%A5%AD.ipynb\" target=\"_parent\"><img src=\"https://colab.research.google.com/assets/colab-badge.svg\" alt=\"Open In Colab\"/></a>"
      ]
    },
    {
      "cell_type": "code",
      "execution_count": 1,
      "metadata": {
        "colab": {
          "base_uri": "https://localhost:8080/"
        },
        "id": "1zgZR5KG1IiJ",
        "outputId": "b36ecb19-947c-404d-f96f-cad323b85cc0"
      },
      "outputs": [
        {
          "output_type": "stream",
          "name": "stdout",
          "text": [
            "請輸入國文成績50\n",
            "請輸入英文成績60\n",
            "請輸入數學成績70\n",
            "你的成績總分為:180\n"
          ]
        }
      ],
      "source": [
        "chi = int(input(\"請輸入國文成績\"))\n",
        "eng = int(input(\"請輸入英文成績\"))\n",
        "math = int(input(\"請輸入數學成績\"))\n",
        "total = chi + eng + math\n",
        "print(\"你的成績總分為:%3d\" % total)"
      ]
    },
    {
      "cell_type": "code",
      "source": [
        "a = int(input(\"請輸入梯形上底長度\"))\n",
        "b = int(input(\"請輸入梯形下底長度\"))\n",
        "c = int(input(\"請輸入梯形高長度\"))\n",
        "area = (a + b) * c / 2\n",
        "print(area)"
      ],
      "metadata": {
        "colab": {
          "base_uri": "https://localhost:8080/"
        },
        "id": "R-8S4n4S2Z3K",
        "outputId": "63d73b5f-43ab-4060-aa4c-20854cd4c5fe"
      },
      "execution_count": 2,
      "outputs": [
        {
          "output_type": "stream",
          "name": "stdout",
          "text": [
            "請輸入梯形上底長度3\n",
            "請輸入梯形下底長度4\n",
            "請輸入梯形高長度3\n",
            "10.5\n"
          ]
        }
      ]
    },
    {
      "cell_type": "code",
      "source": [
        "height_cm = float(input(\"請輸入你的身高(cm)\"))\n",
        "weight = float(input(\"請輸入你的體重(kg)\"))\n",
        "height_m = height_cm / 100\n",
        "bmi = weight / (height_m ** 2)\n",
        "print(\"BMI為: %3.2f\" % bmi)"
      ],
      "metadata": {
        "colab": {
          "base_uri": "https://localhost:8080/"
        },
        "id": "ZUtpEbLO4-rJ",
        "outputId": "1babb856-1927-48f1-8119-db79f0ba3def"
      },
      "execution_count": 3,
      "outputs": [
        {
          "output_type": "stream",
          "name": "stdout",
          "text": [
            "請輸入你的身高(cm)180\n",
            "請輸入你的體重(kg)80\n",
            "BMI為: 24.69\n"
          ]
        }
      ]
    }
  ]
}
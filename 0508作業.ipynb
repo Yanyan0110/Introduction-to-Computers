{
  "nbformat": 4,
  "nbformat_minor": 0,
  "metadata": {
    "colab": {
      "provenance": [],
      "authorship_tag": "ABX9TyOdKV+xDp1B/toP/nL7zVbT",
      "include_colab_link": true
    },
    "kernelspec": {
      "name": "python3",
      "display_name": "Python 3"
    },
    "language_info": {
      "name": "python"
    }
  },
  "cells": [
    {
      "cell_type": "markdown",
      "metadata": {
        "id": "view-in-github",
        "colab_type": "text"
      },
      "source": [
        "<a href=\"https://colab.research.google.com/github/Yanyan0110/Introduction-to-Computers/blob/main/0508%E4%BD%9C%E6%A5%AD.ipynb\" target=\"_parent\"><img src=\"https://colab.research.google.com/assets/colab-badge.svg\" alt=\"Open In Colab\"/></a>"
      ]
    },
    {
      "cell_type": "code",
      "execution_count": 1,
      "metadata": {
        "colab": {
          "base_uri": "https://localhost:8080/"
        },
        "id": "_g8B7xTSIxgE",
        "outputId": "fcc21f79-7cde-491e-9922-ad977620d659"
      },
      "outputs": [
        {
          "output_type": "stream",
          "name": "stdout",
          "text": [
            "38\n",
            "38.0 is over\n"
          ]
        }
      ],
      "source": [
        "temperature = float(input())\n",
        "if(temperature >= 37.5):\n",
        "  print('{} is over'.format(temperature))\n",
        "elif(37 <= temperature <=37.4):\n",
        "  print('{} is little over'.format(temperature))\n",
        "elif(34 <= temperature <= 36.9):\n",
        "  print('{} is normal'.format(temperature))\n",
        "else:\n",
        "  print('{} is error'.format(temperature))"
      ]
    },
    {
      "cell_type": "code",
      "source": [
        "score = int(input())\n",
        "if(90 <= score <= 100):\n",
        "  print('{} is A'.format(score))\n",
        "elif(80 <= score <= 89):\n",
        "  print('{} is B'.format(score))\n",
        "elif(70 <= score <= 79):\n",
        "  print('{} is C'.format(score))\n",
        "elif(60 <= score <= 69):\n",
        "  print('{} is D'.format(score))\n",
        "elif(0 <= score <= 59):\n",
        "  print('{} is E'.format(score))\n",
        "else:\n",
        "  print('{} is error'.format(score))\n"
      ],
      "metadata": {
        "colab": {
          "base_uri": "https://localhost:8080/"
        },
        "id": "RAncB7tiMyfj",
        "outputId": "a7cfe79b-c17d-4c1c-f5d4-8ee900aa9cdc"
      },
      "execution_count": 2,
      "outputs": [
        {
          "output_type": "stream",
          "name": "stdout",
          "text": [
            "60\n",
            "60 is D\n"
          ]
        }
      ]
    },
    {
      "cell_type": "code",
      "source": [
        "month = int(input())\n",
        "if(3 <= month <= 5):\n",
        "  print('{} is sprint'.format(month))\n",
        "elif(6 <= month <= 8):\n",
        "  print('{} is summer'.format(month))\n",
        "elif(9 <= month <= 11):\n",
        "  print('{} is autumn'.format(month))\n",
        "elif(month == 12 or month == 1 or month == 2):\n",
        "  print('{} is winter'.format(month))\n",
        "else:\n",
        "  print('input error')"
      ],
      "metadata": {
        "colab": {
          "base_uri": "https://localhost:8080/"
        },
        "id": "iZozP0MwOEXE",
        "outputId": "f579d3e9-f1fc-4dbb-97a0-7dc23b189c4b"
      },
      "execution_count": 3,
      "outputs": [
        {
          "output_type": "stream",
          "name": "stdout",
          "text": [
            "5\n",
            "5 is sprint\n"
          ]
        }
      ]
    }
  ]
}